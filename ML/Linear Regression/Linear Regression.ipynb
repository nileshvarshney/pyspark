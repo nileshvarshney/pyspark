{
 "cells": [
  {
   "cell_type": "markdown",
   "id": "67b0405f",
   "metadata": {},
   "source": [
    "### Simple Leanear Regression"
   ]
  },
  {
   "cell_type": "code",
   "execution_count": 1,
   "id": "30cd1e41",
   "metadata": {},
   "outputs": [],
   "source": [
    "from pyspark.sql import SparkSession\n",
    "from pyspark.ml.regression import LinearRegression"
   ]
  },
  {
   "cell_type": "code",
   "execution_count": 2,
   "id": "80bae473",
   "metadata": {},
   "outputs": [],
   "source": [
    "spark = SparkSession.builder.appName('Linear Regression').getOrCreate()"
   ]
  },
  {
   "cell_type": "code",
   "execution_count": 6,
   "id": "0bd64a04",
   "metadata": {},
   "outputs": [],
   "source": [
    "ecomm_cust = spark.read.csv('./Ecommerce_Customers.csv',inferSchema=True, header=True)"
   ]
  },
  {
   "cell_type": "code",
   "execution_count": 7,
   "id": "babf3974",
   "metadata": {},
   "outputs": [
    {
     "name": "stdout",
     "output_type": "stream",
     "text": [
      "root\n",
      " |-- Email: string (nullable = true)\n",
      " |-- Address: string (nullable = true)\n",
      " |-- Avatar: string (nullable = true)\n",
      " |-- Avg Session Length: double (nullable = true)\n",
      " |-- Time on App: double (nullable = true)\n",
      " |-- Time on Website: double (nullable = true)\n",
      " |-- Length of Membership: double (nullable = true)\n",
      " |-- Yearly Amount Spent: double (nullable = true)\n",
      "\n"
     ]
    }
   ],
   "source": [
    "ecomm_cust.printSchema()"
   ]
  },
  {
   "cell_type": "code",
   "execution_count": 11,
   "id": "d51a008e",
   "metadata": {},
   "outputs": [
    {
     "name": "stdout",
     "output_type": "stream",
     "text": [
      "+-----------------------------+--------------------------------------------------------+----------------+------------------+------------------+------------------+--------------------+-------------------+\n",
      "|Email                        |Address                                                 |Avatar          |Avg Session Length|Time on App       |Time on Website   |Length of Membership|Yearly Amount Spent|\n",
      "+-----------------------------+--------------------------------------------------------+----------------+------------------+------------------+------------------+--------------------+-------------------+\n",
      "|mstephenson@fernandez.com    |835 Frank TunnelWrightmouth, MI 82180-9605              |Violet          |34.49726772511229 |12.65565114916675 |39.57766801952616 |4.0826206329529615  |587.9510539684005  |\n",
      "|hduke@hotmail.com            |4547 Archer CommonDiazchester, CA 06566-8576            |DarkGreen       |31.92627202636016 |11.109460728682564|37.268958868297744|2.66403418213262    |392.2049334443264  |\n",
      "|pallen@yahoo.com             |24645 Valerie Unions Suite 582Cobbborough, DC 99414-7564|Bisque          |33.000914755642675|11.330278057777512|37.110597442120856|4.104543202376424   |487.54750486747207 |\n",
      "|riverarebecca@gmail.com      |1414 David ThroughwayPort Jason, OH 22070-1220          |SaddleBrown     |34.30555662975554 |13.717513665142507|36.72128267790313 |3.120178782748092   |581.8523440352177  |\n",
      "|mstephens@davidson-herman.com|14023 Rodriguez PassagePort Jacobville, PR 37242-1057   |MediumAquaMarine|33.33067252364639 |12.795188551078114|37.53665330059473 |4.446308318351434   |599.4060920457634  |\n",
      "+-----------------------------+--------------------------------------------------------+----------------+------------------+------------------+------------------+--------------------+-------------------+\n",
      "only showing top 5 rows\n",
      "\n"
     ]
    }
   ],
   "source": [
    "ecomm_cust.show(5, truncate=False)\n"
   ]
  },
  {
   "cell_type": "code",
   "execution_count": 16,
   "id": "444c5e9f",
   "metadata": {},
   "outputs": [
    {
     "name": "stdout",
     "output_type": "stream",
     "text": [
      "hduke@hotmail.com\n",
      "4547 Archer CommonDiazchester, CA 06566-8576\n",
      "DarkGreen\n",
      "31.92627202636016\n",
      "11.109460728682564\n",
      "37.268958868297744\n",
      "2.66403418213262\n",
      "392.2049334443264\n"
     ]
    }
   ],
   "source": [
    "for x in ecomm_cust.head(2)[1]:\n",
    "    print(x)"
   ]
  },
  {
   "cell_type": "code",
   "execution_count": 23,
   "id": "70434867",
   "metadata": {},
   "outputs": [],
   "source": [
    "from pyspark.ml.linalg import Vector\n",
    "from pyspark.ml.feature import VectorAssembler"
   ]
  },
  {
   "cell_type": "code",
   "execution_count": 25,
   "id": "eb7b6c53",
   "metadata": {},
   "outputs": [
    {
     "data": {
      "text/plain": [
       "['Email',\n",
       " 'Address',\n",
       " 'Avatar',\n",
       " 'Avg Session Length',\n",
       " 'Time on App',\n",
       " 'Time on Website',\n",
       " 'Length of Membership',\n",
       " 'Yearly Amount Spent']"
      ]
     },
     "execution_count": 25,
     "metadata": {},
     "output_type": "execute_result"
    }
   ],
   "source": [
    "ecomm_cust.columns"
   ]
  },
  {
   "cell_type": "code",
   "execution_count": 31,
   "id": "a9476b67",
   "metadata": {},
   "outputs": [
    {
     "name": "stdout",
     "output_type": "stream",
     "text": [
      "root\n",
      " |-- Email: string (nullable = true)\n",
      " |-- Address: string (nullable = true)\n",
      " |-- Avatar: string (nullable = true)\n",
      " |-- Avg Session Length: double (nullable = true)\n",
      " |-- Time on App: double (nullable = true)\n",
      " |-- Time on Website: double (nullable = true)\n",
      " |-- Length of Membership: double (nullable = true)\n",
      " |-- Yearly Amount Spent: double (nullable = true)\n",
      " |-- features: vector (nullable = true)\n",
      "\n"
     ]
    }
   ],
   "source": [
    "assembler = VectorAssembler(\n",
    "    inputCols=['Avg Session Length','Time on App','Time on Website','Length of Membership'],\n",
    "    outputCol='features')\n",
    "\n",
    "output = assembler.transform(ecomm_cust)\n",
    "output.printSchema()"
   ]
  },
  {
   "cell_type": "code",
   "execution_count": 32,
   "id": "89174fd9",
   "metadata": {},
   "outputs": [
    {
     "data": {
      "text/plain": [
       "Row(Email='mstephenson@fernandez.com', Address='835 Frank TunnelWrightmouth, MI 82180-9605', Avatar='Violet', Avg Session Length=34.49726772511229, Time on App=12.65565114916675, Time on Website=39.57766801952616, Length of Membership=4.0826206329529615, Yearly Amount Spent=587.9510539684005, features=DenseVector([34.4973, 12.6557, 39.5777, 4.0826]))"
      ]
     },
     "execution_count": 32,
     "metadata": {},
     "output_type": "execute_result"
    }
   ],
   "source": [
    "output.head()"
   ]
  },
  {
   "cell_type": "code",
   "execution_count": 36,
   "id": "491b9af3",
   "metadata": {},
   "outputs": [
    {
     "name": "stdout",
     "output_type": "stream",
     "text": [
      "+-------------------+----------------------------------------------------------------------------+\n",
      "|Yearly Amount Spent|features                                                                    |\n",
      "+-------------------+----------------------------------------------------------------------------+\n",
      "|587.9510539684005  |[34.49726772511229,12.65565114916675,39.57766801952616,4.0826206329529615]  |\n",
      "|392.2049334443264  |[31.92627202636016,11.109460728682564,37.268958868297744,2.66403418213262]  |\n",
      "|487.54750486747207 |[33.000914755642675,11.330278057777512,37.110597442120856,4.104543202376424]|\n",
      "|581.8523440352177  |[34.30555662975554,13.717513665142507,36.72128267790313,3.120178782748092]  |\n",
      "|599.4060920457634  |[33.33067252364639,12.795188551078114,37.53665330059473,4.446308318351434]  |\n",
      "+-------------------+----------------------------------------------------------------------------+\n",
      "only showing top 5 rows\n",
      "\n"
     ]
    }
   ],
   "source": [
    "data = output.select(\"Yearly Amount Spent\",\"features\")\n",
    "data.show(5, truncate=False)"
   ]
  },
  {
   "cell_type": "code",
   "execution_count": 37,
   "id": "b56ed6df",
   "metadata": {},
   "outputs": [],
   "source": [
    "train, test = data.randomSplit([0.7,0.3], seed=42)"
   ]
  },
  {
   "cell_type": "code",
   "execution_count": 43,
   "id": "49c3024b",
   "metadata": {},
   "outputs": [
    {
     "name": "stdout",
     "output_type": "stream",
     "text": [
      "+-------+-------------------+\n",
      "|summary|Yearly Amount Spent|\n",
      "+-------+-------------------+\n",
      "|  count|                374|\n",
      "|   mean| 502.75221548670083|\n",
      "| stddev|  77.01978422136051|\n",
      "|    min| 256.67058229005585|\n",
      "|    max|  765.5184619388373|\n",
      "+-------+-------------------+\n",
      "\n"
     ]
    }
   ],
   "source": [
    "train.describe().show()"
   ]
  },
  {
   "cell_type": "code",
   "execution_count": 44,
   "id": "989918e2",
   "metadata": {},
   "outputs": [
    {
     "name": "stdout",
     "output_type": "stream",
     "text": [
      "+-------+-------------------+\n",
      "|summary|Yearly Amount Spent|\n",
      "+-------+-------------------+\n",
      "|  count|                126|\n",
      "|   mean| 489.10865505769056|\n",
      "| stddev|  85.27268740986126|\n",
      "|    min|  275.9184206503857|\n",
      "|    max|  712.3963268096637|\n",
      "+-------+-------------------+\n",
      "\n"
     ]
    }
   ],
   "source": [
    "test.describe().show()"
   ]
  },
  {
   "cell_type": "code",
   "execution_count": 50,
   "id": "c24acc1c",
   "metadata": {},
   "outputs": [
    {
     "name": "stdout",
     "output_type": "stream",
     "text": [
      "R2 :  0.9875958599044449\n"
     ]
    }
   ],
   "source": [
    "lr = LinearRegression(featuresCol= 'features', labelCol= 'Yearly Amount Spent')\n",
    "lr_model = lr.fit(train)\n",
    "test_result = lr_model.evaluate(test)\n",
    "print('R2 : ',test_result.r2)"
   ]
  },
  {
   "cell_type": "code",
   "execution_count": 52,
   "id": "2ac5a944",
   "metadata": {},
   "outputs": [
    {
     "data": {
      "text/plain": [
       "89.48001143304037"
      ]
     },
     "execution_count": 52,
     "metadata": {},
     "output_type": "execute_result"
    }
   ],
   "source": [
    "test_result.meanSquaredError"
   ]
  },
  {
   "cell_type": "code",
   "execution_count": 53,
   "id": "014331bb",
   "metadata": {},
   "outputs": [
    {
     "data": {
      "text/plain": [
       "7.560255569514905"
      ]
     },
     "execution_count": 53,
     "metadata": {},
     "output_type": "execute_result"
    }
   ],
   "source": [
    "test_result.meanAbsoluteError"
   ]
  },
  {
   "cell_type": "code",
   "execution_count": 55,
   "id": "ae494605",
   "metadata": {},
   "outputs": [
    {
     "name": "stdout",
     "output_type": "stream",
     "text": [
      "+--------------------+\n",
      "|            features|\n",
      "+--------------------+\n",
      "|[31.5171218025062...|\n",
      "|[33.6666156834513...|\n",
      "|[32.9048536673539...|\n",
      "|[30.3931845423455...|\n",
      "|[31.7216523605090...|\n",
      "+--------------------+\n",
      "only showing top 5 rows\n",
      "\n"
     ]
    }
   ],
   "source": [
    "unlabeled_data = test.select(\"features\")\n",
    "unlabeled_data.show(5)"
   ]
  },
  {
   "cell_type": "code",
   "execution_count": 60,
   "id": "f906a2fd",
   "metadata": {},
   "outputs": [
    {
     "name": "stdout",
     "output_type": "stream",
     "text": [
      "+-----------------------------------------------------------------------------+-----------------+\n",
      "|features                                                                     |prediction       |\n",
      "+-----------------------------------------------------------------------------+-----------------+\n",
      "|[31.51712180250623,10.745188554182882,38.79123468689964,1.4288238768282668]  |280.4980687766465|\n",
      "|[33.66661568345138,10.9857637851215,36.35250276938114,0.9364975973183264]    |313.4568476590914|\n",
      "|[32.904853667353976,12.556107616938169,37.805509432449185,0.2699010899842742]|314.5866834999131|\n",
      "|[30.3931845423455,11.80298577760313,36.315763151803424,2.0838141920346707]   |332.4068022030717|\n",
      "|[31.721652360509037,11.75502370305383,36.7657223578584,1.8473704233395083]   |350.0240759102519|\n",
      "+-----------------------------------------------------------------------------+-----------------+\n",
      "only showing top 5 rows\n",
      "\n"
     ]
    }
   ],
   "source": [
    "prediction = lr_model.transform(unlabeled_data)\n",
    "prediction.show(5, truncate=False)"
   ]
  },
  {
   "cell_type": "code",
   "execution_count": null,
   "id": "66d0e0d3",
   "metadata": {},
   "outputs": [],
   "source": []
  }
 ],
 "metadata": {
  "kernelspec": {
   "display_name": "Python 3",
   "language": "python",
   "name": "python3"
  },
  "language_info": {
   "codemirror_mode": {
    "name": "ipython",
    "version": 3
   },
   "file_extension": ".py",
   "mimetype": "text/x-python",
   "name": "python",
   "nbconvert_exporter": "python",
   "pygments_lexer": "ipython3",
   "version": "3.8.8"
  }
 },
 "nbformat": 4,
 "nbformat_minor": 5
}
