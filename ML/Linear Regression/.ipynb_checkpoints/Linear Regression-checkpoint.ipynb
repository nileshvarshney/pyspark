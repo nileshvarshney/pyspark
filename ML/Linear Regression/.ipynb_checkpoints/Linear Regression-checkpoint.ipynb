{
 "cells": [
  {
   "cell_type": "markdown",
   "id": "0935af34",
   "metadata": {},
   "source": [
    "### Simple Leanear Regression"
   ]
  },
  {
   "cell_type": "code",
   "execution_count": 1,
   "id": "3ca954a8",
   "metadata": {},
   "outputs": [],
   "source": [
    "from pyspark.sql import SparkSession\n",
    "from pyspark.ml.regression import LinearRegression"
   ]
  },
  {
   "cell_type": "code",
   "execution_count": 2,
   "id": "9784b728",
   "metadata": {},
   "outputs": [],
   "source": [
    "spark = SparkSession.builder.appName('Linear Regression').getOrCreate()"
   ]
  },
  {
   "cell_type": "code",
   "execution_count": 6,
   "id": "9b9f3957",
   "metadata": {},
   "outputs": [],
   "source": [
    "ecomm_cust = spark.read.csv('./Ecommerce_Customers.csv',inferSchema=True, header=True)"
   ]
  },
  {
   "cell_type": "code",
   "execution_count": 7,
   "id": "2480bbd6",
   "metadata": {},
   "outputs": [
    {
     "name": "stdout",
     "output_type": "stream",
     "text": [
      "root\n",
      " |-- Email: string (nullable = true)\n",
      " |-- Address: string (nullable = true)\n",
      " |-- Avatar: string (nullable = true)\n",
      " |-- Avg Session Length: double (nullable = true)\n",
      " |-- Time on App: double (nullable = true)\n",
      " |-- Time on Website: double (nullable = true)\n",
      " |-- Length of Membership: double (nullable = true)\n",
      " |-- Yearly Amount Spent: double (nullable = true)\n",
      "\n"
     ]
    }
   ],
   "source": [
    "ecomm_cust.printSchema()"
   ]
  },
  {
   "cell_type": "code",
   "execution_count": 11,
   "id": "4bac2795",
   "metadata": {},
   "outputs": [
    {
     "name": "stdout",
     "output_type": "stream",
     "text": [
      "+-----------------------------+--------------------------------------------------------+----------------+------------------+------------------+------------------+--------------------+-------------------+\n",
      "|Email                        |Address                                                 |Avatar          |Avg Session Length|Time on App       |Time on Website   |Length of Membership|Yearly Amount Spent|\n",
      "+-----------------------------+--------------------------------------------------------+----------------+------------------+------------------+------------------+--------------------+-------------------+\n",
      "|mstephenson@fernandez.com    |835 Frank TunnelWrightmouth, MI 82180-9605              |Violet          |34.49726772511229 |12.65565114916675 |39.57766801952616 |4.0826206329529615  |587.9510539684005  |\n",
      "|hduke@hotmail.com            |4547 Archer CommonDiazchester, CA 06566-8576            |DarkGreen       |31.92627202636016 |11.109460728682564|37.268958868297744|2.66403418213262    |392.2049334443264  |\n",
      "|pallen@yahoo.com             |24645 Valerie Unions Suite 582Cobbborough, DC 99414-7564|Bisque          |33.000914755642675|11.330278057777512|37.110597442120856|4.104543202376424   |487.54750486747207 |\n",
      "|riverarebecca@gmail.com      |1414 David ThroughwayPort Jason, OH 22070-1220          |SaddleBrown     |34.30555662975554 |13.717513665142507|36.72128267790313 |3.120178782748092   |581.8523440352177  |\n",
      "|mstephens@davidson-herman.com|14023 Rodriguez PassagePort Jacobville, PR 37242-1057   |MediumAquaMarine|33.33067252364639 |12.795188551078114|37.53665330059473 |4.446308318351434   |599.4060920457634  |\n",
      "+-----------------------------+--------------------------------------------------------+----------------+------------------+------------------+------------------+--------------------+-------------------+\n",
      "only showing top 5 rows\n",
      "\n"
     ]
    }
   ],
   "source": [
    "ecomm_cust.show(5, truncate=False)\n"
   ]
  },
  {
   "cell_type": "code",
   "execution_count": 16,
   "id": "616b6848",
   "metadata": {},
   "outputs": [
    {
     "name": "stdout",
     "output_type": "stream",
     "text": [
      "hduke@hotmail.com\n",
      "4547 Archer CommonDiazchester, CA 06566-8576\n",
      "DarkGreen\n",
      "31.92627202636016\n",
      "11.109460728682564\n",
      "37.268958868297744\n",
      "2.66403418213262\n",
      "392.2049334443264\n"
     ]
    }
   ],
   "source": [
    "for x in ecomm_cust.head(2)[1]:\n",
    "    print(x)"
   ]
  },
  {
   "cell_type": "code",
   "execution_count": 23,
   "id": "3cd9eae2",
   "metadata": {},
   "outputs": [],
   "source": [
    "from pyspark.ml.linalg import Vector\n",
    "from pyspark.ml.feature import VectorAssembler"
   ]
  },
  {
   "cell_type": "code",
   "execution_count": 25,
   "id": "4d918314",
   "metadata": {},
   "outputs": [
    {
     "data": {
      "text/plain": [
       "['Email',\n",
       " 'Address',\n",
       " 'Avatar',\n",
       " 'Avg Session Length',\n",
       " 'Time on App',\n",
       " 'Time on Website',\n",
       " 'Length of Membership',\n",
       " 'Yearly Amount Spent']"
      ]
     },
     "execution_count": 25,
     "metadata": {},
     "output_type": "execute_result"
    }
   ],
   "source": [
    "ecomm_cust.columns"
   ]
  },
  {
   "cell_type": "code",
   "execution_count": null,
   "id": "218c5a5b",
   "metadata": {},
   "outputs": [],
   "source": []
  },
  {
   "cell_type": "code",
   "execution_count": 24,
   "id": "2a6b7874",
   "metadata": {},
   "outputs": [
    {
     "data": {
      "text/plain": [
       "['Email',\n",
       " 'Address',\n",
       " 'Avatar',\n",
       " 'Avg Session Length',\n",
       " 'Time on App',\n",
       " 'Time on Website',\n",
       " 'Length of Membership',\n",
       " 'Yearly Amount Spent']"
      ]
     },
     "execution_count": 24,
     "metadata": {},
     "output_type": "execute_result"
    }
   ],
   "source": [
    "ecomm_cust.columns"
   ]
  },
  {
   "cell_type": "code",
   "execution_count": null,
   "id": "877340e5",
   "metadata": {},
   "outputs": [],
   "source": []
  }
 ],
 "metadata": {
  "kernelspec": {
   "display_name": "Python 3",
   "language": "python",
   "name": "python3"
  },
  "language_info": {
   "codemirror_mode": {
    "name": "ipython",
    "version": 3
   },
   "file_extension": ".py",
   "mimetype": "text/x-python",
   "name": "python",
   "nbconvert_exporter": "python",
   "pygments_lexer": "ipython3",
   "version": "3.8.8"
  }
 },
 "nbformat": 4,
 "nbformat_minor": 5
}
